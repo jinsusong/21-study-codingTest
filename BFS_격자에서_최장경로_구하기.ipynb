{
  "nbformat": 4,
  "nbformat_minor": 0,
  "metadata": {
    "colab": {
      "name": "BFS 격자에서 최장경로 구하기.ipynb",
      "private_outputs": true,
      "provenance": [],
      "authorship_tag": "ABX9TyMOunL4op6kZEYS7kn/GcGN",
      "include_colab_link": true
    },
    "kernelspec": {
      "name": "python3",
      "display_name": "Python 3"
    },
    "language_info": {
      "name": "python"
    }
  },
  "cells": [
    {
      "cell_type": "markdown",
      "metadata": {
        "id": "view-in-github",
        "colab_type": "text"
      },
      "source": [
        "<a href=\"https://colab.research.google.com/github/jinsusong/21-study-codingTest/blob/master/BFS_%EA%B2%A9%EC%9E%90%EC%97%90%EC%84%9C_%EC%B5%9C%EC%9E%A5%EA%B2%BD%EB%A1%9C_%EA%B5%AC%ED%95%98%EA%B8%B0.ipynb\" target=\"_parent\"><img src=\"https://colab.research.google.com/assets/colab-badge.svg\" alt=\"Open In Colab\"/></a>"
      ]
    },
    {
      "cell_type": "markdown",
      "source": [
        "- n x m 직사각형 최장경로 구하기\n",
        "- 1칸 이동 시 길이 + 1 \n",
        "- 이동 조건 : 전 격자 숫자보다 다음 격자 숫자가 클 경우 이동 \n",
        "- 모든 출발점에서 이동할 수 있는 수를 구하고 가장 긴 이동 거리를 구함"
      ],
      "metadata": {
        "id": "xrGr5LPsS1Up"
      }
    },
    {
      "cell_type": "code",
      "execution_count": null,
      "metadata": {
        "id": "ZjLyLXPxZ7dd"
      },
      "outputs": [],
      "source": [
        "# n x m 직사각형 최장경로 구하기\n",
        "# 1칸 이동 시 길이 + 1 \n",
        "# 이동 조건 : 전 격자 숫자보다 다음 격자 숫자가 클 경우 이동 \n",
        "# 모든 출발점에서 이동할 수 있는 수를 구하고 가장 긴 이동 거리를 구함\n",
        "\n",
        "from collections import deque\n",
        "\n",
        "#BFS 소스코드 구현\n",
        "def bfs(x,y ,visited):\n",
        "    global answer\n",
        "    #global visited\n",
        "    # 이동할 네 가지 방향 정의 (상, 하 , 좌, 우)\n",
        "    dx = [-1, 1, 0, 0]\n",
        "    dy = [0, 0, -1, 1]\n",
        "    #print(\"i , j : \" , x ,y)\n",
        "    worm = 1\n",
        "    #큐(Queue)구현을 위해 deque 라이브러리 사용\n",
        "    queue = deque()\n",
        "    queue.append((x,y))\n",
        "    # 큐가 빌 때까지 반복하기\n",
        "    while queue:\n",
        "        #print(\"queue : \", queue)\n",
        "        x,y = queue.popleft()\n",
        "        # 현재 위치에서 4가지 방향으로의 위치 확인\n",
        "        for i in range(4):\n",
        "            nx = x + dx[i]\n",
        "            ny = y + dy[i]\n",
        "            # 미로 찾기 공간을 벗어난 경우 무시\n",
        "            if nx < 0 or nx >= W or ny < 0 or ny >= H:\n",
        "                continue\n",
        "            #다음 경로가 이전 경로 보다 숫자가 작을 경우 무시\n",
        "            if R[nx][ny] < R[x][y]:\n",
        "                #print(\"이전 경로 보다 작은 경우 무시\")\n",
        "                #print(\"R[x,y] : \", R[x][y])\n",
        "                #print(\"R[nx,ny] : \", R[nx][ny])\n",
        "                continue\n",
        "\n",
        "            # 다음 경로의 값이 이전 경로의 값보다 클 경우 지렁이 길이 증가\n",
        "            if R[nx][ny] > R[x][y]:\n",
        "                # R[nx][ny] = R[x][y] + 1\n",
        "                visited[nx][ny] = visited[x][y] + 1\n",
        "                #print(\"이전 경로 보다 큰 경우 지렁이 길이 증가\")\n",
        "                #print(\"R[x,y] : \", R[x][y])\n",
        "                #print(\"R[nx,ny] : \", R[nx][ny])\n",
        "                # worm = worm +1\n",
        "                #print(\"visited : \", visited)\n",
        "                queue.append((nx,ny))\n",
        "\n",
        "        # 최장경로 길이 반환\n",
        "        #print(\"max(visited): \", max(map(max, visited)))\n",
        "        max_worm = max(map(max, visited))\n",
        "        #print(\"max_worm : \", type(max_worm))\n",
        "        #print(\"max_worm : \", max_worm)\n",
        "        # print(\"visited : \", visited)\n",
        "        # worm_array.append(max_worm)\n",
        "        # print(\"worm_array : \", worm_array)\n",
        "    return max_worm\n",
        "\n",
        "\n",
        "\n",
        "def solution(R):\n",
        "    # BFS를 수행한 결과 출력\n",
        "    # worm = 지렁이\n",
        "    # worm_array = 지렁이 길이 배열\n",
        "    worm_array = []\n",
        "\n",
        "    for i in range(W):\n",
        "        for j in range(H):\n",
        "            visited = [[0] * H for _ in range(W)]\n",
        "            #print(\"시작 visited : \", visited)\n",
        "            visited[i][j] = 1\n",
        "            answer = bfs(i,j, visited)\n",
        "            worm_array.append(answer)\n",
        "            #print(\" \")\n",
        "\n",
        "    print(max(worm_array))\n",
        "\n",
        "\n",
        "\n",
        "# W=n , H=m 격자 입력 받기\n",
        "#n, m = map(int,input().split())\n",
        "W, H = 4,4\n",
        "# 2차원 리스트의 맵 정보 입력 받기\n",
        "# graph = R\n",
        "R = [[3,9,2,7],[10,6,8,4],[1,4,9,10],[5,7,8,4]]\n",
        "\n",
        "solution(R)"
      ]
    }
  ]
}