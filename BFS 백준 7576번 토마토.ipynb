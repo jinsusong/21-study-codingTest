{
  "nbformat": 4,
  "nbformat_minor": 0,
  "metadata": {
    "colab": {
      "name": "codingTest.ipynb",
      "private_outputs": true,
      "provenance": [],
      "collapsed_sections": [],
      "authorship_tag": "ABX9TyP1z0IiUNdyCg5eDcCwMsqj",
      "include_colab_link": true
    },
    "kernelspec": {
      "name": "python3",
      "display_name": "Python 3"
    },
    "language_info": {
      "name": "python"
    }
  },
  "cells": [
    {
      "cell_type": "markdown",
      "metadata": {
        "id": "view-in-github",
        "colab_type": "text"
      },
      "source": [
        "<a href=\"https://colab.research.google.com/github/jinsusong/21-study-codingTest/blob/master/BFS%20%EB%B0%B1%EC%A4%80%207576%EB%B2%88%20%ED%86%A0%EB%A7%88%ED%86%A0.ipynb\" target=\"_parent\"><img src=\"https://colab.research.google.com/assets/colab-badge.svg\" alt=\"Open In Colab\"/></a>"
      ]
    },
    {
      "cell_type": "markdown",
      "metadata": {
        "id": "1-aSqpcEYrnJ"
      },
      "source": [
        "# BFS : 백준 7576번 토마토\n"
      ]
    },
    {
      "cell_type": "code",
      "metadata": {
        "id": "qEFS1XLUeksr"
      },
      "source": [
        ""
      ],
      "execution_count": null,
      "outputs": []
    },
    {
      "cell_type": "markdown",
      "metadata": {
        "id": "-h54InMKYzz7"
      },
      "source": [
        "1. BFS(큐)\n",
        " - BFS를 사용하여 최단거리를 구하는 문제와 동일\n",
        " - 최단거리를 graph에 다 표시한뒤, 0이 존재하면 -1을 출력\n",
        " - 0이 존재하지않으면 최대값을 출력해준다. 이때, 처음을 1로 시작했으므로 -1을 빼줌"
      ]
    },
    {
      "cell_type": "markdown",
      "metadata": {
        "id": "H1E3AcjYEnfl"
      },
      "source": [
        "정답코드 "
      ]
    },
    {
      "cell_type": "code",
      "metadata": {
        "id": "rG2zz501EoqM"
      },
      "source": [
        "from collections import deque\n",
        "m,n = map(int,input().split())\n",
        "graph = []\n",
        "queue = deque([])\n",
        "for i in range(n):\n",
        "    graph.append(list(map(int,input().split())))\n",
        "    \n",
        "    for j in range(m): #익은 토마토 큐에 저장\n",
        "        if graph[i][j]==1:\n",
        "            queue.append([i,j])\n",
        "            \n",
        "dx = [-1,1,0,0]\n",
        "dy = [0,0,-1,1]\n",
        "def bfs():\n",
        "    while queue:\n",
        "        x,y = queue.popleft()\n",
        "        \n",
        "        for i in range(4):\n",
        "            a = x+dx[i]\n",
        "            b = y+dy[i]\n",
        "            if 0<=a<n and 0<=b<m and graph[a][b]==0:\n",
        "                queue.append([a,b])\n",
        "                graph[a][b] = graph[x][y]+1\n",
        "bfs()\n",
        "answ = 0\n",
        "for i in graph:\n",
        "    for j in i:\n",
        "        if j==0:\n",
        "            print(-1)\n",
        "            exit(0)\n",
        "    answ = max(answ,max(i))\n",
        "print(answ-1)"
      ],
      "execution_count": null,
      "outputs": []
    },
    {
      "cell_type": "code",
      "metadata": {
        "id": "_sd3T0nrelnp"
      },
      "source": [
        ""
      ],
      "execution_count": null,
      "outputs": []
    }
  ]
}