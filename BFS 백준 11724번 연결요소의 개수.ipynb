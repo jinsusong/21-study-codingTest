{
  "nbformat": 4,
  "nbformat_minor": 0,
  "metadata": {
    "colab": {
      "name": "codingTest.ipynb",
      "private_outputs": true,
      "provenance": [],
      "collapsed_sections": [],
      "authorship_tag": "ABX9TyME4JqAENYUQ9rVIlHl4C3I",
      "include_colab_link": true
    },
    "kernelspec": {
      "name": "python3",
      "display_name": "Python 3"
    },
    "language_info": {
      "name": "python"
    }
  },
  "cells": [
    {
      "cell_type": "markdown",
      "metadata": {
        "id": "view-in-github",
        "colab_type": "text"
      },
      "source": [
        "<a href=\"https://colab.research.google.com/github/jinsusong/21-study-codingTest/blob/master/BFS%20%EB%B0%B1%EC%A4%80%2011724%EB%B2%88%20%EC%97%B0%EA%B2%B0%EC%9A%94%EC%86%8C%EC%9D%98%20%EA%B0%9C%EC%88%98.ipynb\" target=\"_parent\"><img src=\"https://colab.research.google.com/assets/colab-badge.svg\" alt=\"Open In Colab\"/></a>"
      ]
    },
    {
      "cell_type": "markdown",
      "metadata": {
        "id": "1-aSqpcEYrnJ"
      },
      "source": [
        "# BFS : 백준 11724번 연결요소의 개수\n"
      ]
    },
    {
      "cell_type": "code",
      "metadata": {
        "id": "qEFS1XLUeksr"
      },
      "source": [
        ""
      ],
      "execution_count": null,
      "outputs": []
    },
    {
      "cell_type": "markdown",
      "metadata": {
        "id": "-h54InMKYzz7"
      },
      "source": [
        "1. BFS(큐)\n",
        " - 가장 짧은, 가장 빠른과 같은 것을 물어보면 BFS\n",
        " - 연결 성분 : 나누어진 각각의 그래프\n",
        "    1. 그래프는 여러 개의 고립된 부분 그래프로 구성될 수 있음.\n",
        "    2. 서로 연결되어 있는 여러 개의 고립된 부분 그래프 각각을 연결 성분이라고 부름 \n",
        "\n",
        " - 연결 성분을 찾는 방법\n",
        "    1. BFS , DFS 를 활용 \n",
        " \n"
      ]
    },
    {
      "cell_type": "markdown",
      "metadata": {
        "id": "H1E3AcjYEnfl"
      },
      "source": [
        "정답코드 "
      ]
    },
    {
      "cell_type": "code",
      "metadata": {
        "id": "rG2zz501EoqM"
      },
      "source": [
        ""
      ],
      "execution_count": null,
      "outputs": []
    },
    {
      "cell_type": "code",
      "metadata": {
        "id": "_sd3T0nrelnp"
      },
      "source": [
        ""
      ],
      "execution_count": null,
      "outputs": []
    }
  ]
}