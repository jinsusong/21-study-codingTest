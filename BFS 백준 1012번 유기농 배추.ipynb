{
  "nbformat": 4,
  "nbformat_minor": 0,
  "metadata": {
    "colab": {
      "name": "codingTest.ipynb",
      "private_outputs": true,
      "provenance": [],
      "collapsed_sections": [],
      "authorship_tag": "ABX9TyNGyhPKQjK75UQJjE8H/xDL",
      "include_colab_link": true
    },
    "kernelspec": {
      "name": "python3",
      "display_name": "Python 3"
    },
    "language_info": {
      "name": "python"
    }
  },
  "cells": [
    {
      "cell_type": "markdown",
      "metadata": {
        "id": "view-in-github",
        "colab_type": "text"
      },
      "source": [
        "<a href=\"https://colab.research.google.com/github/jinsusong/21-study-codingTest/blob/master/BFS%20%EB%B0%B1%EC%A4%80%201012%EB%B2%88%20%EC%9C%A0%EA%B8%B0%EB%86%8D%20%EB%B0%B0%EC%B6%94.ipynb\" target=\"_parent\"><img src=\"https://colab.research.google.com/assets/colab-badge.svg\" alt=\"Open In Colab\"/></a>"
      ]
    },
    {
      "cell_type": "markdown",
      "metadata": {
        "id": "1-aSqpcEYrnJ"
      },
      "source": [
        "# BFS : 백준 1012번 유기농 배추\n"
      ]
    },
    {
      "cell_type": "code",
      "metadata": {
        "id": "qEFS1XLUeksr"
      },
      "source": [
        ""
      ],
      "execution_count": null,
      "outputs": []
    },
    {
      "cell_type": "markdown",
      "metadata": {
        "id": "-h54InMKYzz7"
      },
      "source": [
        "1. DFS(재귀)\n",
        " - 입력\n",
        " - 테스트 케이스 개수 T , 배추 밭 가로 길이 M , 배추 밭 세로 길이 N , 배추가 심어져 있는 위치 K \n",
        "  - DFS : index Error 주의 "
      ]
    },
    {
      "cell_type": "markdown",
      "metadata": {
        "id": "H1E3AcjYEnfl"
      },
      "source": [
        "정답코드 "
      ]
    },
    {
      "cell_type": "code",
      "metadata": {
        "id": "rG2zz501EoqM"
      },
      "source": [
        "def dfs(x, y): \n",
        "    dx = [1, -1, 0, 0] dy = [0, 0, 1, -1] \n",
        "    # 상,하,좌,우 확인\n",
        "    for i in range(4): \n",
        "        nx = x + dx[i] \n",
        "        ny = y + dy[i] \n",
        "        if (0 <= nx < N) and (0 <= ny < M): \n",
        "            if matrix[nx][ny] == 1: \n",
        "                matrix[nx][ny] = -1 \n",
        "                dfs(nx, ny) \n",
        "\n",
        "T = int(input()) \n",
        "for _ in range(T): \n",
        "    M, N, K = map(int, input().split()) \n",
        "    matrix = [[0]*M for _ in range(N)] \n",
        "    cnt = 0 \n",
        "    # 행렬 생성 \n",
        "    for _ in range(K): \n",
        "        m, n = map(int, input().split()) \n",
        "        matrix[n][m] = 1 \n",
        "    for i in range(N): \n",
        "        # 행 (바깥 리스트) \n",
        "        for j in range(M): \n",
        "            # 열 (내부 리스트) \n",
        "            if matrix[i][j] > 0: \n",
        "                dfs(i, j) \n",
        "                cnt += 1 \n",
        "    print(cnt)\n",
        "\n"
      ],
      "execution_count": null,
      "outputs": []
    },
    {
      "cell_type": "markdown",
      "metadata": {
        "id": "hv4aJRUSEi-Y"
      },
      "source": [
        "아래 직접 푼 코드 index Error  \n",
        "나중에 에러 수정해야함."
      ]
    },
    {
      "cell_type": "code",
      "metadata": {
        "id": "DK0rLJhc0GCN"
      },
      "source": [
        "def dfs(x,y):\n",
        "    graph[x][y] = 0\n",
        "    global cnt\n",
        "    #print(\" \")\n",
        "    #print(\"x , y : \" , x, y)\n",
        "    for i in range(4):\n",
        "        nx = x + dx[i]\n",
        "        ny = y + dy[i]\n",
        "        #print(\"nx , ny : \" , nx ,ny)\n",
        "        if nx < 0 or ny < 0 or nx >= m or ny >= n:\n",
        "            continue\n",
        "    \n",
        "        if graph[nx][ny] == 1:\n",
        "            cnt +=1 \n",
        "            dfs(nx,ny)\n",
        "\n",
        "\n",
        "\n",
        "# 테스트 케이스 개수 \n",
        "t = int(input())\n",
        "#print(t)\n",
        "\n",
        "\n",
        "for i in range(t):\n",
        "    \n",
        "    m,n,k = map(int,input().split())\n",
        "    #print(\" m , n , k : \" ,m,n,k)\n",
        "\n",
        "    graph = [[0]*(m+2) for _ in range(n+2)]\n",
        "    cnt = 0\n",
        "    count = []\n",
        "\n",
        "\n",
        "    for i in range(k):\n",
        "        x, y  = map(int,input().split())\n",
        "        #print(\"x : \", x , \" y  : \" ,y )\n",
        "        graph[x][y] = 1\n",
        "\n",
        "    #print(graph)\n",
        "\n",
        "    # 상 하 좌 우\n",
        "    dx = [-1, 1, 0 ,0]\n",
        "    dy = [0, 0, -1 ,1]\n",
        "\n",
        "    for i in range(m):\n",
        "        for j in range(n):\n",
        "            #print(\"i , j  : \" , i, j)\n",
        "            if graph[i][j] == 1:\n",
        "                cnt = 0\n",
        "                dfs(i,j)\n",
        "                count.append(cnt)\n",
        "\n",
        "\n",
        "    print(len(count))\n"
      ],
      "execution_count": null,
      "outputs": []
    },
    {
      "cell_type": "code",
      "metadata": {
        "id": "_sd3T0nrelnp"
      },
      "source": [
        ""
      ],
      "execution_count": null,
      "outputs": []
    }
  ]
}