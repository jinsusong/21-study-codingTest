{
  "nbformat": 4,
  "nbformat_minor": 0,
  "metadata": {
    "colab": {
      "name": "codingTest.ipynb",
      "private_outputs": true,
      "provenance": [],
      "collapsed_sections": [],
      "machine_shape": "hm",
      "authorship_tag": "ABX9TyMqAf1HHPyashJ5O9etJAcU",
      "include_colab_link": true
    },
    "kernelspec": {
      "name": "python3",
      "display_name": "Python 3"
    },
    "language_info": {
      "name": "python"
    },
    "accelerator": "GPU"
  },
  "cells": [
    {
      "cell_type": "markdown",
      "metadata": {
        "id": "view-in-github",
        "colab_type": "text"
      },
      "source": [
        "<a href=\"https://colab.research.google.com/github/jinsusong/21-study-codingTest/blob/master/DFS%20%EB%B0%B1%EC%A4%80%2011724%EB%B2%88%20%EC%97%B0%EA%B2%B0%EC%9A%94%EC%86%8C%EC%9D%98%20%EA%B0%9C%EC%88%98.ipynb\" target=\"_parent\"><img src=\"https://colab.research.google.com/assets/colab-badge.svg\" alt=\"Open In Colab\"/></a>"
      ]
    },
    {
      "cell_type": "markdown",
      "metadata": {
        "id": "1-aSqpcEYrnJ"
      },
      "source": [
        "# DFS : 백준 11724번 연결요소의 개수\n"
      ]
    },
    {
      "cell_type": "markdown",
      "metadata": {
        "id": "-h54InMKYzz7"
      },
      "source": [
        "1. DFS(재귀)\n",
        " - 단 재귀를 이용할때 파이썬의 경우 최대 재귀 횟수(1000회)를 넘으면 오류가 발생하기 때문에 sys.setrecursionlimit() 메소드를 통해 제한을 풀어줘야합니다.\n",
        " - sys.setrecursionlimit(10000)\n",
        " \n"
      ]
    },
    {
      "cell_type": "markdown",
      "metadata": {
        "id": "H1E3AcjYEnfl"
      },
      "source": [
        "정답코드 "
      ]
    },
    {
      "cell_type": "code",
      "source": [
        "import sys\n",
        "sys.setrecursionlimit(10000)\n",
        "\n",
        "def dfs(v):\n",
        "    visited[v] = True\n",
        "    for e in adj[v]:\n",
        "        if not visited[e]:\n",
        "            dfs(e)\n",
        "            \n",
        "N, M = map(int, input().split())\n",
        "adj = [[] for _ in range(N + 1)]\n",
        "visited = [False] * (N + 1)\n",
        "count = 0\n",
        "\n",
        "for _ in range(M):\n",
        "    u, v = map(int, input().split())\n",
        "    adj[u].append(v)\n",
        "    adj[v].append(u)\n",
        "    \n",
        "for j in range(1, N + 1):\n",
        "    if not visited[j]:\n",
        "        dfs(j)\n",
        "        count += 1\n",
        "\n",
        "print(count)"
      ],
      "metadata": {
        "id": "s2a79p1Ome59"
      },
      "execution_count": null,
      "outputs": []
    }
  ]
}
