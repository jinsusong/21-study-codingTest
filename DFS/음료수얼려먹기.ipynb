{
  "nbformat": 4,
  "nbformat_minor": 0,
  "metadata": {
    "colab": {
      "name": "백준코테.ipynb",
      "private_outputs": true,
      "provenance": [],
      "authorship_tag": "ABX9TyPjxk1oixkq8HsNmGQCJ1rm",
      "include_colab_link": true
    },
    "kernelspec": {
      "name": "python3",
      "display_name": "Python 3"
    },
    "language_info": {
      "name": "python"
    }
  },
  "cells": [
    {
      "cell_type": "markdown",
      "metadata": {
        "id": "view-in-github",
        "colab_type": "text"
      },
      "source": [
        "<a href=\"https://colab.research.google.com/github/jinsusong/21-study-codingTest/blob/master/DFS_%EC%9D%8C%EB%A3%8C%EC%88%98%EC%96%BC%EB%A0%A4%EB%A8%B9%EA%B8%B0.ipynb\" target=\"_parent\"><img src=\"https://colab.research.google.com/assets/colab-badge.svg\" alt=\"Open In Colab\"/></a>"
      ]
    },
    {
      "cell_type": "markdown",
      "metadata": {
        "id": "1-aSqpcEYrnJ"
      },
      "source": [
        "# DFS 예제 음료수 얼려먹기 \n"
      ]
    },
    {
      "cell_type": "markdown",
      "metadata": {
        "id": "-h54InMKYzz7"
      },
      "source": [
        "### DFS 활용 알고리즘 순서 \n",
        " 1. 특정한 지점의 주변 상, 하, 좌, 우를 살펴본 뒤에 주변 지점 중에서 값이 '0'이면서 아직 방문하지 않은 노드가 있다면 해당 노드를 방문 \n",
        " 2. 방문한 노드에서 다시 상, 하, 좌, 우를 살펴보면서 방문을 진행하는 과정을 반복하면, 연결된 모든 노드를 방문할 수 있음.\n",
        " 3. 모든 노드에 대하여 1-2번의 과정을 반복하여, 방문하지 않은 노드의 수를 카운트함.\n",
        "\n"
      ]
    },
    {
      "cell_type": "code",
      "metadata": {
        "id": "X2ZnqftZaClv"
      },
      "source": [
        "#주어진 범위를 벗어나는 경우에는 즉시 종료 \n",
        "if x <= -1 or x >= n or y <= -1 or y >= m:\n",
        "    return False\n",
        "\n",
        "#현재 노드를 아직 방문하지 않았다면 \n",
        "if graph[x][y] == 0 :\n",
        "    # 해당 노드 방문 처리 \n",
        "    graph[x][y] = 1 \n",
        "    # 상 하 좌 우의 위치들도 모두 재귀적으로 호출 \n",
        "    dfs(x -1 , y)\n",
        "    dfs(x, y-1)\n",
        "    dfs(x+1, y)\n",
        "    dfs(x,y+1)\n",
        "    return True\n",
        "return False "
      ],
      "execution_count": null,
      "outputs": []
    },
    {
      "cell_type": "code",
      "metadata": {
        "id": "pcfiZoBRaD7B"
      },
      "source": [
        "# N, M 을 공백을 기준으로 구분하여 입력 받기 \n",
        "n, m = map(int, input().split())\n",
        "\n",
        "# 2차원 리스트의 맵 정보 입력 받기 \n",
        "graph = []\n",
        "for i in range(n):\n",
        "    graph.append(list(map(int,input())))\n",
        "\n",
        "# 모든 노드(위치)에 대하여 음료수 채우기 \n",
        "result = 0\n",
        "for i in range(n):\n",
        "    for j in range(m):\n",
        "        # 현재 위치에서 DFS 수행\n",
        "        if dfs(i,j) == True:\n",
        "            result += 1\n",
        "\n",
        "print(result)"
      ],
      "execution_count": null,
      "outputs": []
    },
    {
      "cell_type": "code",
      "metadata": {
        "id": "tQ_koLwcaa0D"
      },
      "source": [
        ""
      ],
      "execution_count": null,
      "outputs": []
    }
  ]
}
