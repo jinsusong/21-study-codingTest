{
  "nbformat": 4,
  "nbformat_minor": 0,
  "metadata": {
    "colab": {
      "name": "배열 비교_ 레고블럭.ipynb",
      "private_outputs": true,
      "provenance": [],
      "authorship_tag": "ABX9TyOGd26cA1INov4R+CYTx/8B",
      "include_colab_link": true
    },
    "kernelspec": {
      "name": "python3",
      "display_name": "Python 3"
    },
    "language_info": {
      "name": "python"
    }
  },
  "cells": [
    {
      "cell_type": "markdown",
      "metadata": {
        "id": "view-in-github",
        "colab_type": "text"
      },
      "source": [
        "<a href=\"https://colab.research.google.com/github/jinsusong/21-study-codingTest/blob/master/%EB%B0%B0%EC%97%B4_%EB%B9%84%EA%B5%90__%EB%A0%88%EA%B3%A0%EB%B8%94%EB%9F%AD.ipynb\" target=\"_parent\"><img src=\"https://colab.research.google.com/assets/colab-badge.svg\" alt=\"Open In Colab\"/></a>"
      ]
    },
    {
      "cell_type": "markdown",
      "source": [
        "### 문제 "
      ],
      "metadata": {
        "id": "h8gaTmA1yj51"
      }
    },
    {
      "cell_type": "markdown",
      "source": [
        "어느날 구름이는 레고블럭 색상 별로 N개의 탑을 쌓아서 좌우로 늘어놓았습니다.\n",
        "\n",
        "이 탑들을 왼쪽에서 볼 경우와 오른쪽에서 볼 경우에 대해서 생각해 보도록 하겠습니다.\n",
        "\n",
        "왼쪽에서 보면 높이가 높은 블럭이 높이가 작은 블럭보다 왼쪽에 있다면 , 높이가 작은 블럭은 더 높은 블럭에 가려져 보이지 않을 것입니다.\n",
        "\n",
        "오른쪽에서 보는 경우도 마찬가지로 높이가 높은 블럭이 높이가 작은 블럭보다 오른쪽에 있다면, 높이가 작은 블럭은 더 높은 블럭에 가려져 보이지 않을 것입니다.\n",
        "\n",
        "각각의 높이를 가진 서로 다른 색상의 레고 블럭이 좌우로 길게 놓여있을 때 왼쪽에서 봤을 때의 개수와, 오른쪽에서 봤을 때 보이는 개수를 출력하는 프로그램을 작성하세요."
      ],
      "metadata": {
        "id": "MSgKJ8Y-yr0s"
      }
    },
    {
      "cell_type": "markdown",
      "source": [
        "입력\n",
        "\n",
        "첫 줄에 블럭 탑의 개수 ( 1 이상 30 이하 )\n",
        "\n",
        "다음 줄에 각 블럭 탑의 높이 순서대로 입력\n",
        "\n",
        "- 7\n",
        "- 4 6 3 8 9 10 3 9"
      ],
      "metadata": {
        "id": "L358o7a6yxk0"
      }
    },
    {
      "cell_type": "markdown",
      "source": [
        "\n",
        "\n",
        "출력\n",
        "\n",
        "왼쪽에서 봤을 때 보이는 탑의 개수, 오른쪽에서 봤을 때 보이는 탑의 개수 ( 공백으로 구분 )\n",
        "\n",
        "- 6 1"
      ],
      "metadata": {
        "id": "esEjGFdyy0zw"
      }
    },
    {
      "cell_type": "markdown",
      "source": [
        ""
      ],
      "metadata": {
        "id": "2hHCj6cEy1vQ"
      }
    },
    {
      "cell_type": "code",
      "source": [
        "n = int(input())\n",
        "arr = list(map(int,input().split()))\n",
        "\n",
        "result = []\n",
        "cur_max = arr[0]\n",
        "cnt = 1\n",
        "for i in range(1,len(arr)):\n",
        "   if arr[i] > arr[i-1] and cur_max < arr[i]:\n",
        "      cur_max = arr[i]\n",
        "      cnt += 1\n",
        "result.append(cnt)\n",
        "\n",
        "cur_max = arr[-1]\n",
        "cnt = 1\n",
        "for i in range(len(arr)-2,-1,-1):\n",
        "   if arr[i] > arr[i+1] and cur_max < arr[i]:\n",
        "      cur_max = arr[i]\n",
        "      cnt += 1\n",
        "result.append(cnt)\n",
        "\n",
        "print(\" \".join(list(map(str,result))))"
      ],
      "metadata": {
        "id": "XWqyigwky3WT"
      },
      "execution_count": null,
      "outputs": []
    }
  ]
}