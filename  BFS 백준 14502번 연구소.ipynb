{
  "nbformat": 4,
  "nbformat_minor": 0,
  "metadata": {
    "colab": {
      "name": "codingTest.ipynb",
      "private_outputs": true,
      "provenance": [],
      "collapsed_sections": [],
      "machine_shape": "hm",
      "authorship_tag": "ABX9TyMW9rVSlpnfnYtNmADgfWnE",
      "include_colab_link": true
    },
    "kernelspec": {
      "name": "python3",
      "display_name": "Python 3"
    },
    "language_info": {
      "name": "python"
    },
    "accelerator": "GPU"
  },
  "cells": [
    {
      "cell_type": "markdown",
      "metadata": {
        "id": "view-in-github",
        "colab_type": "text"
      },
      "source": [
        "<a href=\"https://colab.research.google.com/github/jinsusong/21-study-codingTest/blob/master/%20BFS%20%EB%B0%B1%EC%A4%80%2014502%EB%B2%88%20%EC%97%B0%EA%B5%AC%EC%86%8C.ipynb\" target=\"_parent\"><img src=\"https://colab.research.google.com/assets/colab-badge.svg\" alt=\"Open In Colab\"/></a>"
      ]
    },
    {
      "cell_type": "markdown",
      "metadata": {
        "id": "1-aSqpcEYrnJ"
      },
      "source": [
        "# BFS : 백준 14502번 연구소\n"
      ]
    },
    {
      "cell_type": "markdown",
      "metadata": {
        "id": "-h54InMKYzz7"
      },
      "source": [
        "1. BFS(큐)\n",
        " - 단 재귀를 이용할때 파이썬의 경우 최대 재귀 횟수(1000회)를 넘으면 오류가 발생하기 때문에 sys.setrecursionlimit() 메소드를 통해 제한을 풀어줘야합니다.\n",
        " - sys.setrecursionlimit(10000)\n",
        " \n"
      ]
    },
    {
      "cell_type": "markdown",
      "source": [
        "문제"
      ],
      "metadata": {
        "id": "zr7yXiQWjz3C"
      }
    },
    {
      "cell_type": "markdown",
      "source": [
        "인체에 치명적인 바이러스를 연구하던 연구소에서 바이러스가 유출되었다. 다행히 바이러스는 아직 퍼지지 않았고, 바이러스의 확산을 막기 위해서 연구소에 벽을 세우려고 한다.\n",
        "\n",
        "연구소는 크기가 N×M인 직사각형으로 나타낼 수 있으며, 직사각형은 1×1 크기의 정사각형으로 나누어져 있다. 연구소는 빈 칸, 벽으로 이루어져 있으며, 벽은 칸 하나를 가득 차지한다. \n",
        "\n",
        "일부 칸은 바이러스가 존재하며, 이 바이러스는 상하좌우로 인접한 빈 칸으로 모두 퍼져나갈 수 있다. 새로 세울 수 있는 벽의 개수는 3개이며, 꼭 3개를 세워야 한다"
      ],
      "metadata": {
        "id": "7_Z0AN9Ij3vT"
      }
    },
    {
      "cell_type": "markdown",
      "metadata": {
        "id": "H1E3AcjYEnfl"
      },
      "source": [
        "정답코드 "
      ]
    },
    {
      "cell_type": "code",
      "source": [
        ""
      ],
      "metadata": {
        "id": "s2a79p1Ome59"
      },
      "execution_count": null,
      "outputs": []
    }
  ]
}