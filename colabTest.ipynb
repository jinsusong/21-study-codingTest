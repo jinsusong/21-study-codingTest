{
  "nbformat": 4,
  "nbformat_minor": 0,
  "metadata": {
    "colab": {
      "name": "백준코테.ipynb",
      "private_outputs": true,
      "provenance": [],
      "authorship_tag": "ABX9TyPRda0ViFxUJ5gGFtGhXhFh",
      "include_colab_link": true
    },
    "kernelspec": {
      "name": "python3",
      "display_name": "Python 3"
    },
    "language_info": {
      "name": "python"
    }
  },
  "cells": [
    {
      "cell_type": "markdown",
      "metadata": {
        "id": "view-in-github",
        "colab_type": "text"
      },
      "source": [
        "<a href=\"https://colab.research.google.com/github/jinsusong/programmers/blob/master/colabTest.ipynb\" target=\"_parent\"><img src=\"https://colab.research.google.com/assets/colab-badge.svg\" alt=\"Open In Colab\"/></a>"
      ]
    },
    {
      "cell_type": "markdown",
      "metadata": {
        "id": "yavPmZL-wfz5"
      },
      "source": [
        "# 백준코테"
      ]
    },
    {
      "cell_type": "markdown",
      "metadata": {
        "id": "ffLxDsYDwkAh"
      },
      "source": [
        "## 11000번 : 강의실 배정"
      ]
    },
    {
      "cell_type": "code",
      "metadata": {
        "id": "sTW9IkIVwc7O"
      },
      "source": [
        "n = int(input())\n",
        "print(n)\n",
        "\n",
        "a = sorted([list(map(int,input().split())) for i in range(n)], key=lambda x : (x[0], -x[1]))\n",
        "print(a)\n"
      ],
      "execution_count": null,
      "outputs": []
    },
    {
      "cell_type": "code",
      "metadata": {
        "id": "Kh4BAY8WxgNu"
      },
      "source": [
        "\n",
        "n = int(input())\n",
        "print(n)\n",
        "\n",
        "a = sorted([list(map(int,input().split())) for i in range(n)], key=lambda x : (x[0], -x[1]))\n",
        "print(a)"
      ],
      "execution_count": null,
      "outputs": []
    },
    {
      "cell_type": "code",
      "metadata": {
        "id": "528STSMSWjQH"
      },
      "source": [
        ""
      ],
      "execution_count": null,
      "outputs": []
    }
  ]
}