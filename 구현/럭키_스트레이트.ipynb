{
  "nbformat": 4,
  "nbformat_minor": 0,
  "metadata": {
    "colab": {
      "private_outputs": true,
      "provenance": [],
      "authorship_tag": "ABX9TyOLmgcq352v+FTJ9aLE5mqI",
      "include_colab_link": true
    },
    "kernelspec": {
      "name": "python3",
      "display_name": "Python 3"
    },
    "language_info": {
      "name": "python"
    }
  },
  "cells": [
    {
      "cell_type": "markdown",
      "metadata": {
        "id": "view-in-github",
        "colab_type": "text"
      },
      "source": [
        "<a href=\"https://colab.research.google.com/github/jinsusong/study-Baekjoon/blob/master/%EA%B5%AC%ED%98%84/%EB%9F%AD%ED%82%A4_%EC%8A%A4%ED%8A%B8%EB%A0%88%EC%9D%B4%ED%8A%B8.ipynb\" target=\"_parent\"><img src=\"https://colab.research.google.com/assets/colab-badge.svg\" alt=\"Open In Colab\"/></a>"
      ]
    },
    {
      "cell_type": "markdown",
      "source": [
        "# 문제 해설"
      ],
      "metadata": {
        "id": "x0XntDsPqJ1b"
      }
    },
    {
      "cell_type": "markdown",
      "source": [
        "- 게임의 아웃복서 캐릭터는 필살기인 \"럭키 스트레이트\" 기술이 있다. \n",
        "- 이 기술은 특정 조건에서 발동한다. \n",
        "- 발동 조건은 현재 점수가 N 이라고 할 때, 자릿수를 기준으로 왼쪽과 오른쪽을 나눈다.\n",
        "- 왼쪽 자릿수의 값들을 더한 값과 오른쪽 자릿수의 값들을 더한 값이 동일하면 특수조건을 발동할 수 있다. \n",
        "- ex) 123,402 = 1 + 2 + 3 과 4 + 0 + 2 가 6으로 동일하여 조건에 만족한다. \n",
        "- 현재 점수 N이 주어지면 특수조건을 발동 할 수 있는지 아닌지 판별 \n"
      ],
      "metadata": {
        "id": "2fU_vF-nos3a"
      }
    },
    {
      "cell_type": "markdown",
      "source": [
        "# 입력 조건\n",
        "- 첫째 줄에 점수 N이 정수로 주어진다. ( 10 <= 99,999,999), 단 점수 N의 자릿수는 항상 짝수 형태로만 주어진다. \n",
        "- ex) 5인 12,345는 입력으로 들어오지 않는다. \n",
        "- 입력 예시 : 123402\n",
        "\n",
        "# 출력 조건 \n",
        "- 첫째 줄에 럭키 스트레이트를 사용할 수 있다면 \"LUCKY\"를 , 사용할 수 없다면 \"READY\"를 출력한다. \n",
        "- 출력 예시 : LUCKY\n",
        "\n"
      ],
      "metadata": {
        "id": "sQ5jwyLuqNjQ"
      }
    },
    {
      "cell_type": "code",
      "source": [
        "\n",
        "# 입력은 정수로 이루어진다. 짝수이다. \n",
        "n = 123401 #int(input())\n",
        "#print(n)\n",
        "\n",
        "# 현재 입력 값 n의 자릿수를 센다.  1. string으로 길이를 센다. 2. 10씩 나눠서 자릿수를 센다.\n",
        "length = len(str(n))\n",
        "#print(length)\n",
        "\n",
        "right = 0\n",
        "left = 0\n",
        "count = 0\n",
        "\n",
        "while True:\n",
        "    # 10씩 나누면 한자리씩 나온다. ?\n",
        "    value = n % 10  # 나머지\n",
        "    n = n //10 # 몫\n",
        "    #print(\"n : \" ,n)\n",
        "    #print(\"value : \" ,value)\n",
        "    \n",
        "    # 만약 3자리 이전이면\n",
        "    if count < length/2 :\n",
        "        #오른쪽 값으로 더한다. \n",
        "        right += value\n",
        "    else : \n",
        "        #왼쪽 값으로 더한다. \n",
        "        left += value\n",
        "    count += 1 \n",
        "    if n <= 0 :\n",
        "        #print(\"right : \", right)\n",
        "        #print(\"left : \", left)\n",
        "        if right == left :   \n",
        "            print(\"LUCKY\")\n",
        "        else : \n",
        "            print(\"READY\")\n",
        "        break\n",
        "        \n",
        "    \n",
        "    \n",
        "    \n",
        "\n"
      ],
      "metadata": {
        "id": "4_szcgr3qppP"
      },
      "execution_count": null,
      "outputs": []
    },
    {
      "cell_type": "code",
      "source": [
        "#"
      ],
      "metadata": {
        "id": "z7X_abozrAFh"
      },
      "execution_count": null,
      "outputs": []
    }
  ]
}