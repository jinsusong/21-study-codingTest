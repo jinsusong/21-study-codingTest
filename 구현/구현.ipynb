{
  "nbformat": 4,
  "nbformat_minor": 0,
  "metadata": {
    "colab": {
      "private_outputs": true,
      "provenance": [],
      "authorship_tag": "ABX9TyNwRwp4mCl1WyZhrHM64e/j",
      "include_colab_link": true
    },
    "kernelspec": {
      "name": "python3",
      "display_name": "Python 3"
    },
    "language_info": {
      "name": "python"
    }
  },
  "cells": [
    {
      "cell_type": "markdown",
      "metadata": {
        "id": "view-in-github",
        "colab_type": "text"
      },
      "source": [
        "<a href=\"https://colab.research.google.com/github/jinsusong/study-Baekjoon/blob/master/%EA%B5%AC%ED%98%84.ipynb\" target=\"_parent\"><img src=\"https://colab.research.google.com/assets/colab-badge.svg\" alt=\"Open In Colab\"/></a>"
      ]
    },
    {
      "cell_type": "markdown",
      "source": [
        "# 구현\n",
        "\n",
        "프로그래밍 언어의 문법에 능숙하고 코드 작성 속도가 빠른 역량을 요구하는 문제 \n",
        "\n",
        "알고리즘은 간단한데 \n",
        "\n",
        "1. 코드가 길어지는 문제\n",
        "2. 특정 소수점까지 출력해야 하는 문제 \n",
        "3. 문자열이 입력으로 주어졌을 때 한 문자 단위로 끊어서 리스트에 넣어야 하는 문제(파싱)\n",
        "\n",
        "완전 탐색은 모든 경우의 수를 주저 없이 다 계산하는 해결 방법\n",
        "\n",
        "시뮬레이션은 문제에서 제시한 알고리즘을 한 단계씩 차례대로 직접 수행해야 하는 문제 유형\n",
        "\n",
        "### 파이썬에서 리스트 크기\n",
        "\n",
        "대체로 코딩 테스트에서는 128~512MB로 메모리를 제한하는데 , 파이썬의 경우 리스트 크기에 따라 시스템 내부적으로 표에서 보여주는 것과 유사한 크기만큼 메모리를 차지함.\n",
        "\n",
        "| 데이터의 개수(리스트의 길이) | 메모리 사용량 |\n",
        "| --- | --- |\n",
        "| 1,000 |  약 4KB |\n",
        "| 1,000,000 | 약 4MB |\n",
        "| 10,000,000 | 약 40MB |\n",
        "\n",
        "데이터 처리량이 많은 경우 메모리 제한을 고려해야함.\n",
        "\n",
        "일반적인 기업 코딩테스트 환경에서 파이썬 코드는 1초에 2,000만 번의 연산을 수행한다고 가정하고 문제를 풀면 실행 시간 제한에 안정적이다.\n",
        "\n",
        "시간 제한이 1초이고, 데이터의 개수가 100만 개인 문제가 있다면 일반적으로 시간복잡도 O(NlogN) 이내의 알고리즘을 이용하여 문제를 풀어야 한다. \n",
        "\n",
        "N = 1,000,000일 때 NlogN은 약 20,000,000이기 때문이다. \n",
        "\n",
        "알고리즘을 풀 때는 시간 제한과 데이터의 개수를 먼저 확인한 뒤에 이 문제를 어느 정도의 알고리즘으로 작성해야 풀 수 있을 것인지 예측할 수 있어야 한다."
      ],
      "metadata": {
        "id": "7mTjKpqz-wNP"
      }
    }
  ]
}
