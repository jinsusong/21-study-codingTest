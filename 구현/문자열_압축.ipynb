{
  "nbformat": 4,
  "nbformat_minor": 0,
  "metadata": {
    "colab": {
      "private_outputs": true,
      "provenance": [],
      "authorship_tag": "ABX9TyNbG+g3cjjn8aKo7wIHPvEq",
      "include_colab_link": true
    },
    "kernelspec": {
      "name": "python3",
      "display_name": "Python 3"
    },
    "language_info": {
      "name": "python"
    }
  },
  "cells": [
    {
      "cell_type": "markdown",
      "metadata": {
        "id": "view-in-github",
        "colab_type": "text"
      },
      "source": [
        "<a href=\"https://colab.research.google.com/github/jinsusong/study-Baekjoon/blob/master/%EA%B5%AC%ED%98%84/%EB%AC%B8%EC%9E%90%EC%97%B4_%EC%95%95%EC%B6%95.ipynb\" target=\"_parent\"><img src=\"https://colab.research.google.com/assets/colab-badge.svg\" alt=\"Open In Colab\"/></a>"
      ]
    },
    {
      "cell_type": "markdown",
      "source": [
        "# 문제 분석\n",
        "- 문자열 압축을 위해 문자열에서 같은 값이 연속해서 나타나는 것을 그 문자의 개수와 반복되는 값으로 표현 \n",
        "- ex) aabbaccc 의 경우 2a2ba3c로 표현 , 그러나 이러한 방식은 반복되는 문자가 적은 경우 압축률이 낮다는 단점이 있음.\n",
        "- 이를 해결하기 위해 문자열을 1개 이상의 단위로 잘라서 압축하면 더 짧은 문자열로 표현할 수 있음.\n",
        "- ex) ababcdcdababcdcd 의 경우 \n",
        "- 2ab2cd2ab2cd 가 될수도 있고 \n",
        "- 2ababcdcd가 될수도 있음.\n",
        "- 가장 짧게 압축하는 문자열의 길이를 return 한다.\n",
        "\n"
      ],
      "metadata": {
        "id": "y1_SHPvNQVA0"
      }
    },
    {
      "cell_type": "markdown",
      "source": [
        "# 제한 사항\n",
        "- s의 길이는 1이상 1,000이하입니다.\n",
        "- s는 알파벳 소문자로만 이루어져 있습니다. \n",
        "\n"
      ],
      "metadata": {
        "id": "AFyiWZpWRLoN"
      }
    },
    {
      "cell_type": "markdown",
      "source": [
        "# 입출력 예시 \n",
        "- aabbaccc : 7\n",
        "- ababcdcdababcdcd : 9 \n",
        "- abcabcdede : 8 \n",
        "- abcabcabcabcdededededede : 14\n",
        "- xababcdcdababcdcd : 17 \n"
      ],
      "metadata": {
        "id": "180Ht-9fRq9X"
      }
    },
    {
      "cell_type": "code",
      "source": [
        "s = \"aabbaccc\"#input()\n",
        "\n",
        "# 배열로 만든다. \n",
        "s = list(s)\n",
        "\n",
        "for i in range (len(s)):\n",
        "    count = 1 \n",
        "    # 비교한다. \n",
        "    if i+1 < len(s) :\n",
        "        if s[i] == s[i+1] :     \n",
        "            #1. 같은 문자가 나온다.\n",
        "            # 숫자를 증가시킨다. \n",
        "            count += 1 \n",
        "        else:\n",
        "            #2. 다른 문자가 나온다.\n",
        "            # count와 문자를 반환한다. \n",
        "            print(str(count) + s[i+1])\n",
        "\n",
        "\n",
        "\n",
        "\n",
        "\n"
      ],
      "metadata": {
        "id": "AC7Wzcb6R4nA"
      },
      "execution_count": null,
      "outputs": []
    },
    {
      "cell_type": "code",
      "source": [
        "ㄴ"
      ],
      "metadata": {
        "id": "Z2PBVC5FSjpV"
      },
      "execution_count": null,
      "outputs": []
    }
  ]
}