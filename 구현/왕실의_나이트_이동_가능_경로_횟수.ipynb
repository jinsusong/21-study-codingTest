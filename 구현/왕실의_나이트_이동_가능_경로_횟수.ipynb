{
  "nbformat": 4,
  "nbformat_minor": 0,
  "metadata": {
    "colab": {
      "private_outputs": true,
      "provenance": [],
      "authorship_tag": "ABX9TyP9aN1hQGsiDGE7gxXwUXH6",
      "include_colab_link": true
    },
    "kernelspec": {
      "name": "python3",
      "display_name": "Python 3"
    },
    "language_info": {
      "name": "python"
    }
  },
  "cells": [
    {
      "cell_type": "markdown",
      "metadata": {
        "id": "view-in-github",
        "colab_type": "text"
      },
      "source": [
        "<a href=\"https://colab.research.google.com/github/jinsusong/study-Baekjoon/blob/master/%EA%B5%AC%ED%98%84_%EC%99%95%EC%8B%A4%EC%9D%98_%EB%82%98%EC%9D%B4%ED%8A%B8_%EC%9D%B4%EB%8F%99_%EA%B0%80%EB%8A%A5_%EA%B2%BD%EB%A1%9C_%ED%9A%9F%EC%88%98.ipynb\" target=\"_parent\"><img src=\"https://colab.research.google.com/assets/colab-badge.svg\" alt=\"Open In Colab\"/></a>"
      ]
    },
    {
      "cell_type": "markdown",
      "source": [
        "- 체스판 8 x 8 좌표 평면 \n",
        "- 임의의 위치에 대해 나이트가 이동할 수 있는 경우의 수를 구하시오\n",
        "    - 수평으로 두 칸 이동한 뒤에 수직으로 한 칸 이동하기 \n",
        "    - 수직으로 두 칸 이동한 뒤에 수평으로 한 칸 이동하기 \n",
        "- 행은 1~8로 표현\n",
        "- 열은 a~h로 표현 \n",
        "- ex) a1, c2, b3 와 같이 열과 행의 순서로 표현\n",
        "\n",
        "- 나이트의 이동범위를 설정 \n",
        "    - steps = [(-2,-1), (-1,-2), (1,-2), (2,-1), (2,1), (1,2),(-1,2),(-2,1)]\n",
        "    \n"
      ],
      "metadata": {
        "id": "7mTjKpqz-wNP"
      }
    },
    {
      "cell_type": "code",
      "source": [
        "# 현재 나이트의 위치 입력받기 \n",
        "#input_data = input()\n",
        "input_data = \"a1\"\n",
        "row = int(input_data[1])# 문자열이라 [0][1]하면 슬라이스 된다.\n",
        "column = int(ord(input_data[0])) - int(ord('a')) + 1 # ord() 아스키코드로 변환하는 함수, ord('문자') -> 정수\n",
        "\n",
        "# 나이트가 이동할 수 있는 8가지 방향 정의\n",
        "steps = [(-2,-1),(-1,-2),(1,-2),(2,-1),(2,1),(1,2),(-1,2),(-2,1)]\n",
        "\n",
        "# 8가지 방향에 대하여 각 위치로 이동이 가능한지 확인\n",
        "result = 0\n",
        "for step in steps:\n",
        "    #이동하고자 하는 위치 확인\n",
        "    next_row = row + step[0]\n",
        "    next_column = column + step[1]\n",
        "    # 해당 위치로 이동이 가능하다면 카운트 증가\n",
        "    if next_row >= 1 and next_row <= 8 and next_column >= 1 and next_column <= 8: \n",
        "        result += 1 \n",
        "\n",
        "print(\"result \" , result)\n",
        "#print(result)\n"
      ],
      "metadata": {
        "id": "zunj3uDIx29D"
      },
      "execution_count": null,
      "outputs": []
    },
    {
      "cell_type": "code",
      "source": [],
      "metadata": {
        "id": "WiiCEPeMyjsH"
      },
      "execution_count": null,
      "outputs": []
    }
  ]
}
