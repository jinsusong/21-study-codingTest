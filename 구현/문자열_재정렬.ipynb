{
  "nbformat": 4,
  "nbformat_minor": 0,
  "metadata": {
    "colab": {
      "private_outputs": true,
      "provenance": [],
      "authorship_tag": "ABX9TyPeMFIRIzpshtzPz5u1ZnV3",
      "include_colab_link": true
    },
    "kernelspec": {
      "name": "python3",
      "display_name": "Python 3"
    },
    "language_info": {
      "name": "python"
    }
  },
  "cells": [
    {
      "cell_type": "markdown",
      "metadata": {
        "id": "view-in-github",
        "colab_type": "text"
      },
      "source": [
        "<a href=\"https://colab.research.google.com/github/jinsusong/study-Baekjoon/blob/master/%EA%B5%AC%ED%98%84/%EB%AC%B8%EC%9E%90%EC%97%B4_%EC%9E%AC%EC%A0%95%EB%A0%AC.ipynb\" target=\"_parent\"><img src=\"https://colab.research.google.com/assets/colab-badge.svg\" alt=\"Open In Colab\"/></a>"
      ]
    },
    {
      "cell_type": "markdown",
      "source": [
        "# 문제 분석\n",
        "- 알파벳 대문자와 숫자 (0~9)로만 구성된 문자열이 주어진다. \n",
        "- 모든 알파벳을 순서대로 배치하고 뒤에 모든 숫자의 합을 작성한다. \n",
        "- ex) K1KA5CB7 을 ABCKK13으로 출력 \n",
        "\n"
      ],
      "metadata": {
        "id": "C01pfrqtN4ox"
      }
    },
    {
      "cell_type": "markdown",
      "source": [
        "# 입력 조건 \n",
        "- 첫째 줄에 하나의 문자열 S가 주어진다. \n",
        "- K1KA5CB7\n",
        "\n",
        "# 출력 조건 \n",
        "- 문제에서 요구하는 답을 출력\n",
        "- ex) ABCKK13"
      ],
      "metadata": {
        "id": "PF223A1yQT4S"
      }
    },
    {
      "cell_type": "code",
      "source": [
        "import re\n",
        "string = input()\n",
        "\n",
        "numbers = re.findall('\\d', string)\n",
        "numbers= sum(map(int, numbers))\n",
        "#print(numbers)\n",
        "\n",
        "alphas = re.findall('[a-zA-z]',string)\n",
        "alphas.sort()\n",
        "\n",
        "result = \"\".join(alphas)+str(numbers)\n",
        "result\n"
      ],
      "metadata": {
        "id": "_EWv7YMkQgq6"
      },
      "execution_count": null,
      "outputs": []
    },
    {
      "cell_type": "code",
      "source": [],
      "metadata": {
        "id": "cd7h9fuMTaeC"
      },
      "execution_count": null,
      "outputs": []
    }
  ]
}