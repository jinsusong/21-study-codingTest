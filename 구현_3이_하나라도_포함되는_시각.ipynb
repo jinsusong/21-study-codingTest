{
  "nbformat": 4,
  "nbformat_minor": 0,
  "metadata": {
    "colab": {
      "private_outputs": true,
      "provenance": [],
      "authorship_tag": "ABX9TyOHjuT2GlUL3ohMLSVmWpbm",
      "include_colab_link": true
    },
    "kernelspec": {
      "name": "python3",
      "display_name": "Python 3"
    },
    "language_info": {
      "name": "python"
    }
  },
  "cells": [
    {
      "cell_type": "markdown",
      "metadata": {
        "id": "view-in-github",
        "colab_type": "text"
      },
      "source": [
        "<a href=\"https://colab.research.google.com/github/jinsusong/study-Baekjoon/blob/master/%EA%B5%AC%ED%98%84_3%EC%9D%B4_%ED%95%98%EB%82%98%EB%9D%BC%EB%8F%84_%ED%8F%AC%ED%95%A8%EB%90%98%EB%8A%94_%EC%8B%9C%EA%B0%81.ipynb\" target=\"_parent\"><img src=\"https://colab.research.google.com/assets/colab-badge.svg\" alt=\"Open In Colab\"/></a>"
      ]
    },
    {
      "cell_type": "markdown",
      "source": [
        "정수 N이 입력되면 00시 00분 00초부터 N시 59분 59초까지의 모든 시각 중에서 3이 하나라도 포함되는 모든 경우의 수를 구하는 프로그램\n",
        "### 입력 조건\n",
        "-  첫째 줄에 정수 N이 입력된다.\n",
        "\n",
        "### 출력 조건 \n",
        "- N시 59분 59초까지 3이 들어가는 모든 경우의 수를 출력 \n"
      ],
      "metadata": {
        "id": "7mTjKpqz-wNP"
      }
    },
    {
      "cell_type": "code",
      "source": [
        "# 탐색해야할 데이터가 100만 개 이하일 때 완전탐색을 사용하면 적절 \n",
        "\n",
        "# H를 입력받기 \n",
        "h = int(input())\n",
        "\n",
        "count = 0\n",
        "for i in range(h+1):\n",
        "    for j in range(60):\n",
        "        for k in range(60):\n",
        "            # 매 시각 안에 '3'이 포함되어 있다면 카운트 증가 \n",
        "            if '3' in str(i) + str(j) + str(k):\n",
        "                count += 1\n",
        "\n",
        "print(count)\n"
      ],
      "metadata": {
        "id": "zunj3uDIx29D"
      },
      "execution_count": null,
      "outputs": []
    },
    {
      "cell_type": "code",
      "source": [],
      "metadata": {
        "id": "WiiCEPeMyjsH"
      },
      "execution_count": null,
      "outputs": []
    }
  ]
}