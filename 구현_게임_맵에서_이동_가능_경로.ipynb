{
  "nbformat": 4,
  "nbformat_minor": 0,
  "metadata": {
    "colab": {
      "private_outputs": true,
      "provenance": [],
      "authorship_tag": "ABX9TyNUjXH43Ek4iRWXDh1msnci",
      "include_colab_link": true
    },
    "kernelspec": {
      "name": "python3",
      "display_name": "Python 3"
    },
    "language_info": {
      "name": "python"
    }
  },
  "cells": [
    {
      "cell_type": "markdown",
      "metadata": {
        "id": "view-in-github",
        "colab_type": "text"
      },
      "source": [
        "<a href=\"https://colab.research.google.com/github/jinsusong/study-Baekjoon/blob/master/%EA%B5%AC%ED%98%84_%EA%B2%8C%EC%9E%84_%EB%A7%B5%EC%97%90%EC%84%9C_%EC%9D%B4%EB%8F%99_%EA%B0%80%EB%8A%A5_%EA%B2%BD%EB%A1%9C.ipynb\" target=\"_parent\"><img src=\"https://colab.research.google.com/assets/colab-badge.svg\" alt=\"Open In Colab\"/></a>"
      ]
    },
    {
      "cell_type": "markdown",
      "source": [
        "- 게임 맵 N x M 좌표 평면 \n",
        "- 캐릭터는 동서남북 중 한 곳을 바라보고 있다. \n",
        "- 맵의 각 칸은 (A,B)로 표현 \n",
        "    - A는 북쪽으로부터 떨어진 칸의 개수, 행 \n",
        "    - B는 서쪽으로부터 떨어진 칸의 개수, 열 \n",
        "    - 캐릭터는 상하좌우 중 하나로 이동할 수 있음. \n",
        "    - 현재 보고 있는 방향을 기준으로 왼쪽 방향부터 차례대로 갈 곳을 정함.\n",
        "    - 가보지 않은 칸이 있다면 이동, 가본 칸이라면 다시 왼쪽으로 회전\n",
        "    - 네 방향 모두 이미 가본 칸이거나 바다로 되어 있는 칸의 경우 바라보는 방향을 유지한 채로 한 칸 뒤로 가고 다시 갈 곳을 찾는다. \n",
        "    - 이 때, 뒤쪽 방향이 바다인 칸이라 뒤로 갈 수 없는 경우에는 움직임을 멈춘다. \n",
        "    \n",
        "- N x M 맵 생성 \n",
        "- 바라보는 방향 설정 \n",
        "    -  0: 북쪽, 1: 동쪽, 2: 남쪽, 3: 서쪽\n"
      ],
      "metadata": {
        "id": "7mTjKpqz-wNP"
      }
    },
    {
      "cell_type": "code",
      "source": [
        "# N , M 을 공백으로 구분하여 입력받기 \n",
        "n,m = map(int,input().split())\n",
        "\n",
        "# 방문한 위치를 저장하기 위한 맵을 생성하여 0으로 초기화\n",
        "d = [[0] * m for _ in range(n)]\n",
        "# 현재 캐릭터의 X 좌표 , Y 좌표, 방향을 입력받기 \n",
        "x, y, direction = map(int, input().split())\n",
        "d[x][y] = 1 # 현재 좌표 방문 처리 \n",
        "\n",
        "# 전체 맵 정보를 입력받기 \n",
        "array = []\n",
        "for i in range(n):\n",
        "    array.append(list(map(int, input().split())))\n",
        "\n",
        "# 북, 동, 남, 서 방향 정의\n",
        "dx = [-1,0,1,0]\n",
        "dy = [0,1,0,-1]\n",
        "\n",
        "# 왼쪽으로 회전 \n",
        "def turn_left():\n",
        "    global direction\n",
        "    direction -= 1\n",
        "    if direction == -1:\n",
        "        direction = 3\n",
        "\n",
        "# 시뮬레이션 시작 \n",
        "count = 1\n",
        "turn_time = 0 \n",
        "while True:\n",
        "    # 왼쪽으로 회전\n",
        "    turn_left()\n",
        "    nx = x + dx[direction]\n",
        "    ny = y + dy[direction]\n",
        "\n",
        "    # 회전한 이후 정면에 가보지 않은 칸이 존재하는 경우 이동\n",
        "    if d[nx][ny] == 0 and array[nx][ny] == 0:\n",
        "        d[nx][ny] = 1 \n",
        "        x = nx \n",
        "        y = ny \n",
        "        count += 1\n",
        "        turn_time = 0\n",
        "        continue\n",
        "    # 회전한 이후 정면에 가보지 않은 칸이 없거나 바다인 경우\n",
        "    else:\n",
        "        turn_time += 1\n",
        "    # 네 방향 모두 갈 수 없는 경우\n",
        "    if turn_time == 4 : \n",
        "        nx = x - dx[direction]\n",
        "        ny = y - dy[direction]\n",
        "\n",
        "        # 뒤로 갈 수 있다면 이동하기 \n",
        "        if array[nx][ny] == 0:\n",
        "            x = nx\n",
        "            y = ny\n",
        "        # 뒤가 바다로 막혀있는 경우\n",
        "        else:\n",
        "            break\n",
        "        turn_time = 0\n",
        "\n",
        "# 정답 출력 \n",
        "print(count)\n",
        "\n"
      ],
      "metadata": {
        "id": "zunj3uDIx29D"
      },
      "execution_count": null,
      "outputs": []
    },
    {
      "cell_type": "code",
      "source": [],
      "metadata": {
        "id": "WiiCEPeMyjsH"
      },
      "execution_count": null,
      "outputs": []
    }
  ]
}