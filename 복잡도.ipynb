{
  "nbformat": 4,
  "nbformat_minor": 0,
  "metadata": {
    "colab": {
      "private_outputs": true,
      "provenance": [],
      "authorship_tag": "ABX9TyPkJyo8NHhdxd8NG6g93xRR",
      "include_colab_link": true
    },
    "kernelspec": {
      "name": "python3",
      "display_name": "Python 3"
    },
    "language_info": {
      "name": "python"
    }
  },
  "cells": [
    {
      "cell_type": "markdown",
      "metadata": {
        "id": "view-in-github",
        "colab_type": "text"
      },
      "source": [
        "<a href=\"https://colab.research.google.com/github/jinsusong/study-Baekjoon/blob/master/%EB%B3%B5%EC%9E%A1%EB%8F%84.ipynb\" target=\"_parent\"><img src=\"https://colab.research.google.com/assets/colab-badge.svg\" alt=\"Open In Colab\"/></a>"
      ]
    },
    {
      "cell_type": "markdown",
      "source": [
        "# 복잡도\n",
        "\n",
        "---\n",
        "\n",
        "시간 복잡도 : 특정한 크기의 입력에 대하여 알고리즘이 얼마나 오래 걸리는지 의미\n",
        "\n",
        "공간 복잡도 : 특정한 크기의 입력에 대하여 알고리즘이 얼마나 많은 메모리를 차지하는지 의미\n",
        "\n",
        "Big-O 표기법은 가장 빠르게 증가하는 항만을 고려하는 표기법이다. \n",
        "\n",
        "코딩 테스트는 최악의 경우에 대한 연산 횟수가  가장 중요함.\n",
        "\n",
        "최악의 경우에 대한 시간 복잡도를 우선적으로 고려해야함.\n",
        "\n",
        "코딩테스트 환경에서는 O(N^3)을 넘어가면 문제 풀이에서 사용하기 어렵다. \n",
        "\n",
        "CPU기반의 개인 컴퓨터나 채점용 컴퓨터에서는 연산 횟수가 10억을 넘어가면 C 언어를 기준으로 통상 1초 이상의 시간이 소요된다. \n",
        "\n",
        "코딩 테스트 문제에서 시간 제한은 1~5초가량이므로 보통 연산 횟수가 10억을 넘어가도록 작성하면 오답 판정을 받을 수 있다. \n",
        "\n",
        "N이 1,000일 때의 연산 횟수 \n",
        "\n",
        "| O(N) | 1,000 |\n",
        "| --- | --- |\n",
        "| O(NlogN) | 10,000 |\n",
        "| O(N^2) | 1,000,000 |\n",
        "| O(N^3) | 1,000,000,000 |\n",
        "\n",
        "모두 시간 제한이 1초인 문제에 대한 예시 \n",
        "\n",
        "- N의 범위가 500인 경우 : 시간 복잡도가 O(N^3)인 알고리즘을 설계하면 문제를 풀 수 있다.\n",
        "- N의 범위가 2,000인 경우 : 시간 복잡도가 O(N^2)인 알고리즘을 설계하면 문제를 풀 수 있다.\n",
        "- N의 범위가 100,000인 경우 : 시간 복잡도가 O(NlogN)인 알고리즘을 설계하면 문제를 풀 수 있다.\n",
        "- N의 범위가 10,000,000인 경우 : 시간 복잡도가 O(N)인 알고리즘을 설계하면 문제를 풀 수 있다."
      ],
      "metadata": {
        "id": "7mTjKpqz-wNP"
      }
    }
  ]
}