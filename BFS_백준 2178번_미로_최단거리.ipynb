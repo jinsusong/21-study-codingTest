{
  "nbformat": 4,
  "nbformat_minor": 0,
  "metadata": {
    "colab": {
      "name": "codingTest.ipynb",
      "private_outputs": true,
      "provenance": [],
      "collapsed_sections": [],
      "authorship_tag": "ABX9TyMgwxGkXPrLNeYxEUcsZezS",
      "include_colab_link": true
    },
    "kernelspec": {
      "name": "python3",
      "display_name": "Python 3"
    },
    "language_info": {
      "name": "python"
    }
  },
  "cells": [
    {
      "cell_type": "markdown",
      "metadata": {
        "id": "view-in-github",
        "colab_type": "text"
      },
      "source": [
        "<a href=\"https://colab.research.google.com/github/jinsusong/21-study-codingTest/blob/master/BFS_%EB%B0%B1%EC%A4%80%202178%EB%B2%88_%EB%AF%B8%EB%A1%9C_%EC%B5%9C%EB%8B%A8%EA%B1%B0%EB%A6%AC.ipynb\" target=\"_parent\"><img src=\"https://colab.research.google.com/assets/colab-badge.svg\" alt=\"Open In Colab\"/></a>"
      ]
    },
    {
      "cell_type": "markdown",
      "metadata": {
        "id": "1-aSqpcEYrnJ"
      },
      "source": [
        "# BFS : 백준 2178번 미로 최단거리\n"
      ]
    },
    {
      "cell_type": "markdown",
      "metadata": {
        "id": "-h54InMKYzz7"
      },
      "source": [
        "1. BFS(큐)\n",
        " - bfs에 입력값으로 (x,y) 좌표 값을 보냄\n",
        " - 미로탐색은 모든 방향을 탐색해야 하기 때문에 이동할 네 가지 방향 정의(상, 하, 좌, 우 )\n",
        " - dx = [-1,1,0,0]\n",
        " - by = [0,0,-1,1] \n",
        " - queue에 좌표 추가\n",
        " - while : q가 존재하면 반복\n",
        " - for : 현재 위치에서 4가지 방향으로 위치 확인\n",
        " - if : 위치 벗어나지 않게 조건 추가 \n",
        " - if : 벽이면 진행 불가\n",
        " - if : 벽이 아니면 이동"
      ]
    },
    {
      "cell_type": "code",
      "metadata": {
        "id": "DK0rLJhc0GCN"
      },
      "source": [
        "# 미로 최단거리 BFS\n",
        "from collections import deque\n",
        "\n",
        "def bfs(x,y):\n",
        "    # 이동할 네 가지 방향 정의 ( 상, 하, 좌, 우)\n",
        "    dx = [-1,1,0,0]\n",
        "    dy = [0,0,-1,1]\n",
        "\n",
        "    #deque 생성\n",
        "    q = deque()\n",
        "    \n",
        "    q.append((x,y))\n",
        "\n",
        "    while q:\n",
        "        x,y = q.popleft()\n",
        "\n",
        "        #현재 위치에서 4가지 방향으로 위치 확인\n",
        "        for i in range(4):\n",
        "            nx = x + dx[i]\n",
        "            ny = y + dy[i]\n",
        "\n",
        "            #위치가 벗어나면 안되기 때문에 조건 추가\n",
        "            if nx < 0 or nx >= n or ny <0 or ny >= m:\n",
        "                continue\n",
        "\n",
        "            #벽이면 진행 불가\n",
        "            if graph[nx][ny] == 0:\n",
        "                continue\n",
        "\n",
        "            #벽이 아니면 이동\n",
        "            if graph[nx][ny] == 1:\n",
        "                graph[nx][ny] = graph[x][y] + 1\n",
        "                q.append((nx,ny))\n",
        "\n",
        "    #마지막 값에서 카운트 값을 출력\n",
        "    return  graph[n-1][m-1]\n",
        "\n",
        "n, m = map(int,input().split())\n",
        "\n",
        "graph = []\n",
        "for _ in range(n):\n",
        "    graph.append(list(map(int,input())))\n",
        "\n",
        "\n",
        "print(bfs(0,0))\n",
        "\n"
      ],
      "execution_count": null,
      "outputs": []
    }
  ]
}