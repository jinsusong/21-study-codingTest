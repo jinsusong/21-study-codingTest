{
  "nbformat": 4,
  "nbformat_minor": 0,
  "metadata": {
    "colab": {
      "name": "codingTest.ipynb",
      "private_outputs": true,
      "provenance": [],
      "collapsed_sections": [],
      "authorship_tag": "ABX9TyPP2VPyOXGx3er+X2kLQJB7",
      "include_colab_link": true
    },
    "kernelspec": {
      "name": "python3",
      "display_name": "Python 3"
    },
    "language_info": {
      "name": "python"
    }
  },
  "cells": [
    {
      "cell_type": "markdown",
      "metadata": {
        "id": "view-in-github",
        "colab_type": "text"
      },
      "source": [
        "<a href=\"https://colab.research.google.com/github/jinsusong/21-study-codingTest/blob/master/BFS_%EB%B0%B1%EC%A4%80%202606%EB%B2%88%20%EB%B0%94%EC%9D%B4%EB%9F%AC%EC%8A%A4.ipynb\" target=\"_parent\"><img src=\"https://colab.research.google.com/assets/colab-badge.svg\" alt=\"Open In Colab\"/></a>"
      ]
    },
    {
      "cell_type": "markdown",
      "metadata": {
        "id": "1-aSqpcEYrnJ"
      },
      "source": [
        "# BFS : 백준 2606번 바이러스\n"
      ]
    },
    {
      "cell_type": "code",
      "metadata": {
        "id": "qEFS1XLUeksr"
      },
      "source": [
        ""
      ],
      "execution_count": null,
      "outputs": []
    },
    {
      "cell_type": "markdown",
      "metadata": {
        "id": "-h54InMKYzz7"
      },
      "source": [
        "1. BFS(큐)\n",
        " - 시작 노드와 연결된 네트워크 찾기 \n",
        " - 방문한 네트워크 객수 카운트\n",
        " - graph[v][i] == 1 and visit_list[i] == 0  and i not in q"
      ]
    },
    {
      "cell_type": "code",
      "metadata": {
        "id": "DK0rLJhc0GCN"
      },
      "source": [
        "from collections import deque\n",
        "\n",
        "\n",
        "def bfs(v):\n",
        "    global cnt\n",
        "    while q :\n",
        "        v = q.popleft()\n",
        "        visit_list[v] = 1\n",
        "        for i in range(computer + 1) :\n",
        "            if graph[v][i] == 1 and visit_list[i] == 0  and i not in q:\n",
        "                q.append(i)\n",
        "                cnt = cnt+ 1\n",
        "q = deque()\n",
        "cnt = 0\n",
        "\n",
        "#컴퓨터 갯수 \n",
        "computer = int(input())\n",
        "# 방문 해야하는 네트워크 리스트\n",
        "visit_list = [0] * (computer + 1)\n",
        "# 연결된 네트워크\n",
        "graph =[ [0] * (computer+1) for _ in range(computer + 1 )]\n",
        "# 연결된 선 입력 받기 \n",
        "linkCnt = int(input())\n",
        "for i in range(linkCnt):\n",
        "    x, y = map(int,input().split())\n",
        "    graph[x][y] = 1\n",
        "    graph[y][x] = 1\n",
        "v = 1\n",
        "q.append(v)\n",
        "bfs(v)\n",
        "print(cnt)\n"
      ],
      "execution_count": null,
      "outputs": []
    },
    {
      "cell_type": "code",
      "metadata": {
        "id": "_sd3T0nrelnp"
      },
      "source": [
        ""
      ],
      "execution_count": null,
      "outputs": []
    }
  ]
}