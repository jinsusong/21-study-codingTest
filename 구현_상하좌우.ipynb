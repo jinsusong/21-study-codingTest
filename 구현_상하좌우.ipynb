{
  "nbformat": 4,
  "nbformat_minor": 0,
  "metadata": {
    "colab": {
      "private_outputs": true,
      "provenance": [],
      "authorship_tag": "ABX9TyN2SHZzrRmzpP1sVCueBc4q",
      "include_colab_link": true
    },
    "kernelspec": {
      "name": "python3",
      "display_name": "Python 3"
    },
    "language_info": {
      "name": "python"
    }
  },
  "cells": [
    {
      "cell_type": "markdown",
      "metadata": {
        "id": "view-in-github",
        "colab_type": "text"
      },
      "source": [
        "<a href=\"https://colab.research.google.com/github/jinsusong/study-Baekjoon/blob/master/%EA%B5%AC%ED%98%84_%EC%83%81%ED%95%98%EC%A2%8C%EC%9A%B0.ipynb\" target=\"_parent\"><img src=\"https://colab.research.google.com/assets/colab-badge.svg\" alt=\"Open In Colab\"/></a>"
      ]
    },
    {
      "cell_type": "markdown",
      "source": [
        "### 입력 조건\n",
        "- 첫째 줄에 공간의 크기를 나타내는 n이 주어진다. \n",
        "    - N x N 행렬\n",
        "- 둘째 줄에 여행가 a가 이동할 계획서 내용이 주어진다. \n",
        "    - Right Right Right Up Down Down\n",
        "\n",
        "### 출력 조건 \n",
        "- 첫째 줄에 여행가 a가 최종적으로 도착할 지점의 좌표(X,Y)를 공백으로 구분하여 출력 \n",
        "    - 2,3"
      ],
      "metadata": {
        "id": "7mTjKpqz-wNP"
      }
    },
    {
      "cell_type": "code",
      "source": [
        "# N을 입력받기\n",
        "n = int(input())\n",
        "x,y = 1,1\n",
        "plans = input().split()\n",
        "\n",
        "# L, R, U, D에 따른 이동 방향 \n",
        "dx = [0,0,-1,1]\n",
        "dy = [-1,1,0,0]\n",
        "move_types = ['L','R','U','D']\n",
        "\n",
        "# 이동 계획을 하나씩 확인\n",
        "for plan in plans:\n",
        "    # 이동 후 좌표 구하기\n",
        "    for i in range(len(move_types)):\n",
        "        if plan == move_types[i]:\n",
        "            nx = x + dx[i]\n",
        "            ny = y + dy[i]\n",
        "\n",
        "    # 공간을 벗어나는 경우 무시\n",
        "    if nx < 1 or ny < 1 or nx > n or ny > n:\n",
        "        continue\n",
        "    # 이동 수행\n",
        "    x,y = nx, ny\n",
        "print(x,y)\n"
      ],
      "metadata": {
        "id": "zunj3uDIx29D"
      },
      "execution_count": null,
      "outputs": []
    },
    {
      "cell_type": "code",
      "source": [],
      "metadata": {
        "id": "WiiCEPeMyjsH"
      },
      "execution_count": null,
      "outputs": []
    }
  ]
}