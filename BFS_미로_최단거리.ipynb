{
  "nbformat": 4,
  "nbformat_minor": 0,
  "metadata": {
    "colab": {
      "name": "백준코테.ipynb",
      "private_outputs": true,
      "provenance": [],
      "authorship_tag": "ABX9TyOVszlTJIBSNcyx4fXBqnz8",
      "include_colab_link": true
    },
    "kernelspec": {
      "name": "python3",
      "display_name": "Python 3"
    },
    "language_info": {
      "name": "python"
    }
  },
  "cells": [
    {
      "cell_type": "markdown",
      "metadata": {
        "id": "view-in-github",
        "colab_type": "text"
      },
      "source": [
        "<a href=\"https://colab.research.google.com/github/jinsusong/programmers/blob/master/BFS_%EB%AF%B8%EB%A1%9C_%EC%B5%9C%EB%8B%A8%EA%B1%B0%EB%A6%AC.ipynb\" target=\"_parent\"><img src=\"https://colab.research.google.com/assets/colab-badge.svg\" alt=\"Open In Colab\"/></a>"
      ]
    },
    {
      "cell_type": "markdown",
      "metadata": {
        "id": "1-aSqpcEYrnJ"
      },
      "source": [
        "# BFS 예제 : 미로탈출(간선의 거리가 같을 때 최단거리에 사용할 수 있는 알고리즘)"
      ]
    },
    {
      "cell_type": "markdown",
      "metadata": {
        "id": "NW5_mSy_cqaV"
      },
      "source": [
        "### n x m 직사각형 (이차원 미로) \n",
        "### 괴물 존재 0 , 괴물 없는 공간 1 \n",
        "### 탈출을 위한 최소 움직임의 *개수*"
      ]
    },
    {
      "cell_type": "markdown",
      "metadata": {
        "id": "-h54InMKYzz7"
      },
      "source": [
        "### BFS 활용 알고리즘 순서 \n",
        "### 간선의 거리가 같을 때 최단거리에 사용할 수 있는 알고리즘\n",
        "### 1. BFS는 시작 지점에서 가까운 노드부터 차례대로 그래프의 모든 노드를 탐색함 \n",
        "### 2. 상 하 좌 우로 연결된 모든 노드로의 거리가 1로 동일함\n",
        "### 3. 다음 노드로 이동할 때 , 이전 노드까지의 거리 +1을 노드의 값으로 저장, 목적지에 도착하면 최종 거리가 계산됨\n",
        "\n",
        "\n"
      ]
    },
    {
      "cell_type": "code",
      "metadata": {
        "id": "tQ_koLwcaa0D"
      },
      "source": [
        "# BFS 소스코드 구현 \n",
        "def dfs(x,y):\n",
        "    #큐(Queue)구현을 위해 deque 라이브러리 사용 \n",
        "    queue = deque()\n",
        "    queue = append((x,y))\n",
        "    # 큐가 빌 때까지 반복하기\n",
        "    while queue:\n",
        "        x,y = queue.popleft()\n",
        "        # 현재 위치에서 4가지 방향으로의 위치 확인 \n",
        "        for i in range(4):\n",
        "            nx = x + dx[i]\n",
        "            ny = y + dy[i]\n",
        "            # 미로 찾기 공간을 벗어난 경우 무시 \n",
        "            if nx < 0 or nx >= n or ny < 0 or ny >= m:\n",
        "                continue\n",
        "            #벽인 경우 무시 \n",
        "            if graph[nx][ny] == 0 :\n",
        "                continue\n",
        "            # 해당 노드를 처음 방문하는 경우에만 최단 거리 기록 \n",
        "            if graph[nx][ny] == 1:\n",
        "                graph[nx][ny] = graph[x][y] + 1 \n",
        "                queue.append((nx,ny))\n",
        "    # 가장 오른쪽 아래까지의 최단 거리 반환 \n",
        "    return graph[n-1][m-1]\n",
        "\n",
        "\n",
        "            \n"
      ],
      "execution_count": null,
      "outputs": []
    },
    {
      "cell_type": "code",
      "metadata": {
        "id": "WVq_oQ4wfl3y"
      },
      "source": [
        "from collections import deque\n",
        "\n",
        "# N, M을 공백을 기준으로 구분하여 입력 받기\n",
        "n, m = map(int,input().split())\n",
        "# 2차원 리스트의 맵 정보 입력 받기 \n",
        "graph = []\n",
        "for i in range(n):\n",
        "    graph.append(list(map(int,input())))\n",
        "\n",
        "# 이동할 네 가지 방향 정의 (상, 하 , 좌, 우)\n",
        "dx = [-1,1,0,0]\n",
        "dy = [0,0,-1,1]\n",
        "\n",
        "# BFS를 수행한 결과 출력 \n",
        "\n"
      ],
      "execution_count": null,
      "outputs": []
    },
    {
      "cell_type": "code",
      "metadata": {
        "id": "vALaCNNyf-ty"
      },
      "source": [
        ""
      ],
      "execution_count": null,
      "outputs": []
    }
  ]
}