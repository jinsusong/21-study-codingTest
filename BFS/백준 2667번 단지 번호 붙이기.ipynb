{
  "nbformat": 4,
  "nbformat_minor": 0,
  "metadata": {
    "colab": {
      "name": "codingTest.ipynb",
      "private_outputs": true,
      "provenance": [],
      "collapsed_sections": [],
      "authorship_tag": "ABX9TyOGceqGtO/+Tp0btWoSN4xh",
      "include_colab_link": true
    },
    "kernelspec": {
      "name": "python3",
      "display_name": "Python 3"
    },
    "language_info": {
      "name": "python"
    }
  },
  "cells": [
    {
      "cell_type": "markdown",
      "metadata": {
        "id": "view-in-github",
        "colab_type": "text"
      },
      "source": [
        "<a href=\"https://colab.research.google.com/github/jinsusong/21-study-codingTest/blob/master/BFS_%EB%B0%B1%EC%A4%80%202667%EB%B2%88%20%EB%8B%A8%EC%A7%80%20%EB%B2%88%ED%98%B8%20%EB%B6%99%EC%9D%B4%EA%B8%B0.ipynb\" target=\"_parent\"><img src=\"https://colab.research.google.com/assets/colab-badge.svg\" alt=\"Open In Colab\"/></a>"
      ]
    },
    {
      "cell_type": "markdown",
      "metadata": {
        "id": "1-aSqpcEYrnJ"
      },
      "source": [
        "# BFS : 백준 2667번 단지 번호 붙이기\n"
      ]
    },
    {
      "cell_type": "markdown",
      "metadata": {
        "id": "-h54InMKYzz7"
      },
      "source": [
        "1. DFS(큐)\n",
        " - dfs에 입력값으로 (x,y) 좌표 값을 보냄\n",
        " - 모든 방향을 탐색해야 하기 때문에 이동할 네 가지 방향 정의(상, 하, 좌, 우 )\n",
        " - dx = [-1,1,0,0]\n",
        " - dy = [0,0,-1,1] "
      ]
    },
    {
      "cell_type": "code",
      "metadata": {
        "id": "DK0rLJhc0GCN"
      },
      "source": [
        "import sys\n",
        "\n",
        "dx=[-1,1,0,0]\n",
        "dy=[0,0,-1,1]\n",
        "\n",
        "n=int(sys.stdin.readline())\n",
        "graph=[list(sys.stdin.readline()) for _ in range(n)]\n",
        "cnt=0\n",
        "apt=[]\n",
        "\n",
        "def dfs(x,y):\n",
        "    global cnt\n",
        "    graph[x][y] = '0' #방문한 곳은 0으로\n",
        "    cnt+=1\n",
        "    for i in range(4):\n",
        "        nx = x + dx[i] #i=0일때 (nx,ny)는 좌 , i=1일때 (nx,ny)는 상\n",
        "        ny = y + dy[i]\n",
        "        if nx < 0 or nx >= n or ny < 0 or ny >=n:\n",
        "            continue\n",
        "        if graph[nx][ny] == '1':\n",
        "            dfs(nx,ny)\n",
        "\n",
        "for i in range(n):\n",
        "    for j in range(n):\n",
        "        if graph[i][j] == '1':\n",
        "            cnt= 0\n",
        "            dfs(i,j)\n",
        "            apt.append(cnt)\n",
        "\n",
        "print(len(apt))\n",
        "apt.sort()\n",
        "for i in apt:\n",
        "    print(i)"
      ],
      "execution_count": null,
      "outputs": []
    }
  ]
}
