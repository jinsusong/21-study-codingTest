{
  "nbformat": 4,
  "nbformat_minor": 0,
  "metadata": {
    "colab": {
      "name": "codingTest.ipynb",
      "private_outputs": true,
      "provenance": [],
      "collapsed_sections": [],
      "authorship_tag": "ABX9TyPSFLXbDqSyYB0NqBThZWy0",
      "include_colab_link": true
    },
    "kernelspec": {
      "name": "python3",
      "display_name": "Python 3"
    },
    "language_info": {
      "name": "python"
    }
  },
  "cells": [
    {
      "cell_type": "markdown",
      "metadata": {
        "id": "view-in-github",
        "colab_type": "text"
      },
      "source": [
        "<a href=\"https://colab.research.google.com/github/jinsusong/21-study-codingTest/blob/master/BFS%20%EB%B0%B1%EC%A4%80%201697%EB%B2%88%20%EC%88%A8%EB%B0%94%EA%BC%AD%EC%A7%88.ipynb\" target=\"_parent\"><img src=\"https://colab.research.google.com/assets/colab-badge.svg\" alt=\"Open In Colab\"/></a>"
      ]
    },
    {
      "cell_type": "markdown",
      "metadata": {
        "id": "1-aSqpcEYrnJ"
      },
      "source": [
        "# BFS : 백준 1697번 숨바꼭질\n"
      ]
    },
    {
      "cell_type": "code",
      "metadata": {
        "id": "qEFS1XLUeksr"
      },
      "source": [
        ""
      ],
      "execution_count": null,
      "outputs": []
    },
    {
      "cell_type": "markdown",
      "metadata": {
        "id": "-h54InMKYzz7"
      },
      "source": [
        "1. BFS(큐)\n",
        " - 가장 짧은, 가장 빠른과 같은 것을 물어보면 BFS\n",
        " - 파이썬에서 queue는 반드시 deque를 사용\n",
        " - queue는 매우 느리고 시간 초과의 원인\n",
        " - queue는 한쪽으로만 입력 가능, 반대쪽으로만 출력 가능\n",
        " - deque는 양쪽으로 입출력 가능\n",
        " \n"
      ]
    },
    {
      "cell_type": "markdown",
      "metadata": {
        "id": "H1E3AcjYEnfl"
      },
      "source": [
        "정답코드 "
      ]
    },
    {
      "cell_type": "code",
      "metadata": {
        "id": "rG2zz501EoqM"
      },
      "source": [
        "import sys\n",
        "from collections import deque\n",
        "\n",
        "def bfs(v):\n",
        "    q = deque([v]) #큐 구현을 위해 deque 사용\n",
        "    while q:\n",
        "        v = q.popleft()\n",
        "        if v == k:\n",
        "            return visited[v]\n",
        "        for i in (v-1, v+1, 2*v):\n",
        "            if 0 <= i <= 100000 and not visited[i]:\n",
        "                visited[i] = visited[v] + 1\n",
        "                q.append(i)\n",
        "\n",
        "n, k = map(int, sys.stdin.readline().split())\n",
        "visited = [0 for i in range(100001)]\n",
        "print(bfs(n))"
      ],
      "execution_count": null,
      "outputs": []
    },
    {
      "cell_type": "code",
      "metadata": {
        "id": "_sd3T0nrelnp"
      },
      "source": [
        ""
      ],
      "execution_count": null,
      "outputs": []
    }
  ]
}
