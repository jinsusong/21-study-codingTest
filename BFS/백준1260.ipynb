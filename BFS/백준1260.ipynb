{
  "nbformat": 4,
  "nbformat_minor": 0,
  "metadata": {
    "colab": {
      "name": "백준코테.ipynb",
      "private_outputs": true,
      "provenance": [],
      "authorship_tag": "ABX9TyM1Y/kipoq7EX1jt9GLwEBF",
      "include_colab_link": true
    },
    "kernelspec": {
      "name": "python3",
      "display_name": "Python 3"
    },
    "language_info": {
      "name": "python"
    }
  },
  "cells": [
    {
      "cell_type": "markdown",
      "metadata": {
        "id": "view-in-github",
        "colab_type": "text"
      },
      "source": [
        "<a href=\"https://colab.research.google.com/github/jinsusong/21-study-codingTest/blob/master/BFS_DFS_%EB%B0%B1%EC%A4%801260.ipynb\" target=\"_parent\"><img src=\"https://colab.research.google.com/assets/colab-badge.svg\" alt=\"Open In Colab\"/></a>"
      ]
    },
    {
      "cell_type": "markdown",
      "metadata": {
        "id": "1-aSqpcEYrnJ"
      },
      "source": [
        "# BFS, DFS  : 백준 1260번 BFS, DFS"
      ]
    },
    {
      "cell_type": "markdown",
      "metadata": {
        "id": "-h54InMKYzz7"
      },
      "source": [
        "1. DFS(재귀)\n",
        "\n",
        " - visit_list(방문 목록)에서 시작 노드를 방문한 노드로 변경\n",
        " - for : 노드의 수만큼 반복 \n",
        " - if 조건 방문 하지 않은 노드 중 시작노드와 연결된 노드가 있으면\n",
        " - def() 재귀호출\n",
        "\n",
        "\n",
        "2. BFS(큐)\n",
        " \n",
        " - deque 선언 \n",
        " - queue : 첫번째 시작 노드 넣기 \n",
        " - while : queue에 값이 남아있다면 반복 \n",
        " - for : 노드의 수만큼 반복 \n",
        " - if 조건 : visit_list(방문 목록)에서 방문하지 않은 노드이면서 시작 노드와 연결된 노드가 있으면 \n",
        " - queue에 추가하고 방문처리"
      ]
    },
    {
      "cell_type": "code",
      "metadata": {
        "id": "DK0rLJhc0GCN"
      },
      "source": [
        "\n",
        "from collections import deque\n",
        "import sys\n",
        "read = sys.stdin.readline\n",
        "\n",
        "def dfs(v):\n",
        "    print()\n",
        "    print(\"start dfs \")\n",
        "    visit_list[v] = 1\n",
        "    print(v)\n",
        "    for i in range(1, n+1):\n",
        "        if visit_list[i] == 0 and graph[v][i] == 1:\n",
        "            print(\"if dfs\")\n",
        "            print(\"i : \" , i)\n",
        "            print(\"v \"  , v)\n",
        "            dfs(i)\n",
        "            \n",
        "\n",
        "def bfs(v):\n",
        "    print()\n",
        "    print(\"start dfs \")\n",
        "    q = deque()\n",
        "    q.append(v)\n",
        "    visit_list2[v] = 1\n",
        "    \n",
        "    while q:\n",
        "        v = q.popleft()\n",
        "        print(v, end = \" \")\n",
        "        for i in range(1, n+1):\n",
        "            if visit_list[i] == 0 and graph[v][i] == 1:\n",
        "                q.append(i)\n",
        "                visit_list[i] = 1\n",
        "                \n",
        "        \n",
        "    \n",
        "    \n",
        "    \n",
        "\n",
        "            \n",
        "n, m, v = map(int,input().split())\n",
        "print(n, m, v)\n",
        "\n",
        "graph = [[0] * (n + 1) for _ in range(n + 1)]\n",
        "\n",
        "visit_list = [0] * (n + 1)\n",
        "visit_list2 = [0] * (n + 1)\n",
        "\n",
        "for _ in range(m):\n",
        "  a, b = map(int, input().split())\n",
        "  graph[a][b] = graph[b][a] = 1\n",
        "print(graph)\n",
        "\n",
        "dfs(v)\n",
        "print()\n",
        "bfs(v)"
      ],
      "execution_count": null,
      "outputs": []
    }
  ]
}
